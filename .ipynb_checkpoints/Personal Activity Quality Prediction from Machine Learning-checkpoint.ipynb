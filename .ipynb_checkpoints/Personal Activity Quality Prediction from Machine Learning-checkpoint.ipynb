{
 "cells": [
  {
   "cell_type": "code",
   "execution_count": 1,
   "metadata": {
    "collapsed": false
   },
   "outputs": [
    {
     "name": "stderr",
     "output_type": "stream",
     "text": [
      "/Users/hengsong/anaconda/lib/python3.5/site-packages/IPython/core/interactiveshell.py:2717: DtypeWarning: Columns (11,14,19,22,25,70,73,86,87,89,90,94,97,100) have mixed types. Specify dtype option on import or set low_memory=False.\n",
      "  interactivity=interactivity, compiler=compiler, result=result)\n"
     ]
    },
    {
     "data": {
      "text/html": [
       "<div>\n",
       "<table border=\"1\" class=\"dataframe\">\n",
       "  <thead>\n",
       "    <tr style=\"text-align: right;\">\n",
       "      <th></th>\n",
       "      <th>Unnamed: 0</th>\n",
       "      <th>user_name</th>\n",
       "      <th>raw_timestamp_part_1</th>\n",
       "      <th>raw_timestamp_part_2</th>\n",
       "      <th>cvtd_timestamp</th>\n",
       "      <th>new_window</th>\n",
       "      <th>num_window</th>\n",
       "      <th>roll_belt</th>\n",
       "      <th>pitch_belt</th>\n",
       "      <th>yaw_belt</th>\n",
       "      <th>...</th>\n",
       "      <th>gyros_forearm_x</th>\n",
       "      <th>gyros_forearm_y</th>\n",
       "      <th>gyros_forearm_z</th>\n",
       "      <th>accel_forearm_x</th>\n",
       "      <th>accel_forearm_y</th>\n",
       "      <th>accel_forearm_z</th>\n",
       "      <th>magnet_forearm_x</th>\n",
       "      <th>magnet_forearm_y</th>\n",
       "      <th>magnet_forearm_z</th>\n",
       "      <th>classe</th>\n",
       "    </tr>\n",
       "  </thead>\n",
       "  <tbody>\n",
       "    <tr>\n",
       "      <th>0</th>\n",
       "      <td>1</td>\n",
       "      <td>carlitos</td>\n",
       "      <td>1323084231</td>\n",
       "      <td>788290</td>\n",
       "      <td>05/12/2011 11:23</td>\n",
       "      <td>no</td>\n",
       "      <td>11</td>\n",
       "      <td>1.41</td>\n",
       "      <td>8.07</td>\n",
       "      <td>-94.4</td>\n",
       "      <td>...</td>\n",
       "      <td>0.03</td>\n",
       "      <td>0.00</td>\n",
       "      <td>-0.02</td>\n",
       "      <td>192</td>\n",
       "      <td>203</td>\n",
       "      <td>-215</td>\n",
       "      <td>-17</td>\n",
       "      <td>654.0</td>\n",
       "      <td>476.0</td>\n",
       "      <td>A</td>\n",
       "    </tr>\n",
       "    <tr>\n",
       "      <th>1</th>\n",
       "      <td>2</td>\n",
       "      <td>carlitos</td>\n",
       "      <td>1323084231</td>\n",
       "      <td>808298</td>\n",
       "      <td>05/12/2011 11:23</td>\n",
       "      <td>no</td>\n",
       "      <td>11</td>\n",
       "      <td>1.41</td>\n",
       "      <td>8.07</td>\n",
       "      <td>-94.4</td>\n",
       "      <td>...</td>\n",
       "      <td>0.02</td>\n",
       "      <td>0.00</td>\n",
       "      <td>-0.02</td>\n",
       "      <td>192</td>\n",
       "      <td>203</td>\n",
       "      <td>-216</td>\n",
       "      <td>-18</td>\n",
       "      <td>661.0</td>\n",
       "      <td>473.0</td>\n",
       "      <td>A</td>\n",
       "    </tr>\n",
       "    <tr>\n",
       "      <th>2</th>\n",
       "      <td>3</td>\n",
       "      <td>carlitos</td>\n",
       "      <td>1323084231</td>\n",
       "      <td>820366</td>\n",
       "      <td>05/12/2011 11:23</td>\n",
       "      <td>no</td>\n",
       "      <td>11</td>\n",
       "      <td>1.42</td>\n",
       "      <td>8.07</td>\n",
       "      <td>-94.4</td>\n",
       "      <td>...</td>\n",
       "      <td>0.03</td>\n",
       "      <td>-0.02</td>\n",
       "      <td>0.00</td>\n",
       "      <td>196</td>\n",
       "      <td>204</td>\n",
       "      <td>-213</td>\n",
       "      <td>-18</td>\n",
       "      <td>658.0</td>\n",
       "      <td>469.0</td>\n",
       "      <td>A</td>\n",
       "    </tr>\n",
       "    <tr>\n",
       "      <th>3</th>\n",
       "      <td>4</td>\n",
       "      <td>carlitos</td>\n",
       "      <td>1323084232</td>\n",
       "      <td>120339</td>\n",
       "      <td>05/12/2011 11:23</td>\n",
       "      <td>no</td>\n",
       "      <td>12</td>\n",
       "      <td>1.48</td>\n",
       "      <td>8.05</td>\n",
       "      <td>-94.4</td>\n",
       "      <td>...</td>\n",
       "      <td>0.02</td>\n",
       "      <td>-0.02</td>\n",
       "      <td>0.00</td>\n",
       "      <td>189</td>\n",
       "      <td>206</td>\n",
       "      <td>-214</td>\n",
       "      <td>-16</td>\n",
       "      <td>658.0</td>\n",
       "      <td>469.0</td>\n",
       "      <td>A</td>\n",
       "    </tr>\n",
       "    <tr>\n",
       "      <th>4</th>\n",
       "      <td>5</td>\n",
       "      <td>carlitos</td>\n",
       "      <td>1323084232</td>\n",
       "      <td>196328</td>\n",
       "      <td>05/12/2011 11:23</td>\n",
       "      <td>no</td>\n",
       "      <td>12</td>\n",
       "      <td>1.48</td>\n",
       "      <td>8.07</td>\n",
       "      <td>-94.4</td>\n",
       "      <td>...</td>\n",
       "      <td>0.02</td>\n",
       "      <td>0.00</td>\n",
       "      <td>-0.02</td>\n",
       "      <td>189</td>\n",
       "      <td>206</td>\n",
       "      <td>-214</td>\n",
       "      <td>-17</td>\n",
       "      <td>655.0</td>\n",
       "      <td>473.0</td>\n",
       "      <td>A</td>\n",
       "    </tr>\n",
       "  </tbody>\n",
       "</table>\n",
       "<p>5 rows × 160 columns</p>\n",
       "</div>"
      ],
      "text/plain": [
       "   Unnamed: 0 user_name  raw_timestamp_part_1  raw_timestamp_part_2  \\\n",
       "0           1  carlitos            1323084231                788290   \n",
       "1           2  carlitos            1323084231                808298   \n",
       "2           3  carlitos            1323084231                820366   \n",
       "3           4  carlitos            1323084232                120339   \n",
       "4           5  carlitos            1323084232                196328   \n",
       "\n",
       "     cvtd_timestamp new_window  num_window  roll_belt  pitch_belt  yaw_belt  \\\n",
       "0  05/12/2011 11:23         no          11       1.41        8.07     -94.4   \n",
       "1  05/12/2011 11:23         no          11       1.41        8.07     -94.4   \n",
       "2  05/12/2011 11:23         no          11       1.42        8.07     -94.4   \n",
       "3  05/12/2011 11:23         no          12       1.48        8.05     -94.4   \n",
       "4  05/12/2011 11:23         no          12       1.48        8.07     -94.4   \n",
       "\n",
       "   ...    gyros_forearm_x gyros_forearm_y gyros_forearm_z accel_forearm_x  \\\n",
       "0  ...               0.03            0.00           -0.02             192   \n",
       "1  ...               0.02            0.00           -0.02             192   \n",
       "2  ...               0.03           -0.02            0.00             196   \n",
       "3  ...               0.02           -0.02            0.00             189   \n",
       "4  ...               0.02            0.00           -0.02             189   \n",
       "\n",
       "  accel_forearm_y accel_forearm_z magnet_forearm_x  magnet_forearm_y  \\\n",
       "0             203            -215              -17             654.0   \n",
       "1             203            -216              -18             661.0   \n",
       "2             204            -213              -18             658.0   \n",
       "3             206            -214              -16             658.0   \n",
       "4             206            -214              -17             655.0   \n",
       "\n",
       "   magnet_forearm_z classe  \n",
       "0             476.0      A  \n",
       "1             473.0      A  \n",
       "2             469.0      A  \n",
       "3             469.0      A  \n",
       "4             473.0      A  \n",
       "\n",
       "[5 rows x 160 columns]"
      ]
     },
     "execution_count": 1,
     "metadata": {},
     "output_type": "execute_result"
    }
   ],
   "source": [
    "import pandas as pd\n",
    "\n",
    "train = pd.read_csv(\"training.csv\")\n",
    "train.head()"
   ]
  },
  {
   "cell_type": "code",
   "execution_count": 3,
   "metadata": {
    "collapsed": false
   },
   "outputs": [
    {
     "name": "stdout",
     "output_type": "stream",
     "text": [
      "160\n"
     ]
    }
   ],
   "source": [
    "print(len(train.columns))"
   ]
  },
  {
   "cell_type": "code",
   "execution_count": 4,
   "metadata": {
    "collapsed": false
   },
   "outputs": [],
   "source": [
    "train_cleaned = train.dropna(axis=1)  #  drop the features with na"
   ]
  },
  {
   "cell_type": "code",
   "execution_count": 7,
   "metadata": {
    "collapsed": false
   },
   "outputs": [
    {
     "data": {
      "text/plain": [
       "60"
      ]
     },
     "execution_count": 7,
     "metadata": {},
     "output_type": "execute_result"
    }
   ],
   "source": [
    "len(train_cleaned.columns)"
   ]
  },
  {
   "cell_type": "code",
   "execution_count": 8,
   "metadata": {
    "collapsed": false
   },
   "outputs": [],
   "source": [
    "train_target = train_cleaned['classe']     # 'classe' column describes the activity quality and is treated as targets.\n",
    "train_X = train_cleaned.drop('classe', axis=1)"
   ]
  },
  {
   "cell_type": "code",
   "execution_count": 9,
   "metadata": {
    "collapsed": false
   },
   "outputs": [
    {
     "name": "stdout",
     "output_type": "stream",
     "text": [
      "(19622,)\n",
      "(19622, 59)\n"
     ]
    }
   ],
   "source": [
    "print(train_target.shape)\n",
    "print(train_X.shape)"
   ]
  },
  {
   "cell_type": "code",
   "execution_count": 11,
   "metadata": {
    "collapsed": false
   },
   "outputs": [],
   "source": [
    "''' from cleaned features, those columns('Unnamed: 0', 'user_name', 'raw_timestamp_part_1', 'raw_timestamp_part_2', \n",
    "'cvtd_timestamp','new_window', 'num_window') are not related to activity quality classification. They are just some \n",
    "notes for input data.\n",
    "'''                         \n",
    "train_X_filtered = train_X.drop(['Unnamed: 0', 'user_name', 'raw_timestamp_part_1', 'raw_timestamp_part_2', 'cvtd_timestamp',\n",
    "                         'new_window', 'num_window'], axis = 1)"
   ]
  },
  {
   "cell_type": "code",
   "execution_count": 12,
   "metadata": {
    "collapsed": false,
    "scrolled": true
   },
   "outputs": [
    {
     "name": "stdout",
     "output_type": "stream",
     "text": [
      "<class 'pandas.core.frame.DataFrame'>\n",
      "RangeIndex: 19622 entries, 0 to 19621\n",
      "Data columns (total 52 columns):\n",
      "roll_belt               19622 non-null float64\n",
      "pitch_belt              19622 non-null float64\n",
      "yaw_belt                19622 non-null float64\n",
      "total_accel_belt        19622 non-null int64\n",
      "gyros_belt_x            19622 non-null float64\n",
      "gyros_belt_y            19622 non-null float64\n",
      "gyros_belt_z            19622 non-null float64\n",
      "accel_belt_x            19622 non-null int64\n",
      "accel_belt_y            19622 non-null int64\n",
      "accel_belt_z            19622 non-null int64\n",
      "magnet_belt_x           19622 non-null int64\n",
      "magnet_belt_y           19622 non-null int64\n",
      "magnet_belt_z           19622 non-null int64\n",
      "roll_arm                19622 non-null float64\n",
      "pitch_arm               19622 non-null float64\n",
      "yaw_arm                 19622 non-null float64\n",
      "total_accel_arm         19622 non-null int64\n",
      "gyros_arm_x             19622 non-null float64\n",
      "gyros_arm_y             19622 non-null float64\n",
      "gyros_arm_z             19622 non-null float64\n",
      "accel_arm_x             19622 non-null int64\n",
      "accel_arm_y             19622 non-null int64\n",
      "accel_arm_z             19622 non-null int64\n",
      "magnet_arm_x            19622 non-null int64\n",
      "magnet_arm_y            19622 non-null int64\n",
      "magnet_arm_z            19622 non-null int64\n",
      "roll_dumbbell           19622 non-null float64\n",
      "pitch_dumbbell          19622 non-null float64\n",
      "yaw_dumbbell            19622 non-null float64\n",
      "total_accel_dumbbell    19622 non-null int64\n",
      "gyros_dumbbell_x        19622 non-null float64\n",
      "gyros_dumbbell_y        19622 non-null float64\n",
      "gyros_dumbbell_z        19622 non-null float64\n",
      "accel_dumbbell_x        19622 non-null int64\n",
      "accel_dumbbell_y        19622 non-null int64\n",
      "accel_dumbbell_z        19622 non-null int64\n",
      "magnet_dumbbell_x       19622 non-null int64\n",
      "magnet_dumbbell_y       19622 non-null int64\n",
      "magnet_dumbbell_z       19622 non-null float64\n",
      "roll_forearm            19622 non-null float64\n",
      "pitch_forearm           19622 non-null float64\n",
      "yaw_forearm             19622 non-null float64\n",
      "total_accel_forearm     19622 non-null int64\n",
      "gyros_forearm_x         19622 non-null float64\n",
      "gyros_forearm_y         19622 non-null float64\n",
      "gyros_forearm_z         19622 non-null float64\n",
      "accel_forearm_x         19622 non-null int64\n",
      "accel_forearm_y         19622 non-null int64\n",
      "accel_forearm_z         19622 non-null int64\n",
      "magnet_forearm_x        19622 non-null int64\n",
      "magnet_forearm_y        19622 non-null float64\n",
      "magnet_forearm_z        19622 non-null float64\n",
      "dtypes: float64(27), int64(25)\n",
      "memory usage: 7.8 MB\n"
     ]
    }
   ],
   "source": [
    "train_X_filtered.info()"
   ]
  },
  {
   "cell_type": "code",
   "execution_count": 13,
   "metadata": {
    "collapsed": false,
    "scrolled": true
   },
   "outputs": [
    {
     "name": "stdout",
     "output_type": "stream",
     "text": [
      "roll_belt               0\n",
      "pitch_belt              0\n",
      "yaw_belt                0\n",
      "total_accel_belt        0\n",
      "gyros_belt_x            0\n",
      "gyros_belt_y            0\n",
      "gyros_belt_z            0\n",
      "accel_belt_x            0\n",
      "accel_belt_y            0\n",
      "accel_belt_z            0\n",
      "magnet_belt_x           0\n",
      "magnet_belt_y           0\n",
      "magnet_belt_z           0\n",
      "roll_arm                0\n",
      "pitch_arm               0\n",
      "yaw_arm                 0\n",
      "total_accel_arm         0\n",
      "gyros_arm_x             0\n",
      "gyros_arm_y             0\n",
      "gyros_arm_z             0\n",
      "accel_arm_x             0\n",
      "accel_arm_y             0\n",
      "accel_arm_z             0\n",
      "magnet_arm_x            0\n",
      "magnet_arm_y            0\n",
      "magnet_arm_z            0\n",
      "roll_dumbbell           0\n",
      "pitch_dumbbell          0\n",
      "yaw_dumbbell            0\n",
      "total_accel_dumbbell    0\n",
      "gyros_dumbbell_x        0\n",
      "gyros_dumbbell_y        0\n",
      "gyros_dumbbell_z        0\n",
      "accel_dumbbell_x        0\n",
      "accel_dumbbell_y        0\n",
      "accel_dumbbell_z        0\n",
      "magnet_dumbbell_x       0\n",
      "magnet_dumbbell_y       0\n",
      "magnet_dumbbell_z       0\n",
      "roll_forearm            0\n",
      "pitch_forearm           0\n",
      "yaw_forearm             0\n",
      "total_accel_forearm     0\n",
      "gyros_forearm_x         0\n",
      "gyros_forearm_y         0\n",
      "gyros_forearm_z         0\n",
      "accel_forearm_x         0\n",
      "accel_forearm_y         0\n",
      "accel_forearm_z         0\n",
      "magnet_forearm_x        0\n",
      "magnet_forearm_y        0\n",
      "magnet_forearm_z        0\n",
      "dtype: int64\n"
     ]
    }
   ],
   "source": [
    "null_counts = train_X_1.isnull().sum()\n",
    "print(null_counts)                      # make sure all the features did not have null!"
   ]
  },
  {
   "cell_type": "code",
   "execution_count": 15,
   "metadata": {
    "collapsed": false,
    "scrolled": true
   },
   "outputs": [
    {
     "name": "stdout",
     "output_type": "stream",
     "text": [
      "Series([], Name: 0, dtype: float64)\n"
     ]
    }
   ],
   "source": [
    "object_columns_df = train_X_filtered.select_dtypes(include=[\"object\"])\n",
    "print(object_columns_df.iloc[0])"
   ]
  },
  {
   "cell_type": "code",
   "execution_count": 16,
   "metadata": {
    "collapsed": false,
    "scrolled": false
   },
   "outputs": [
    {
     "data": {
      "text/html": [
       "<div>\n",
       "<table border=\"1\" class=\"dataframe\">\n",
       "  <thead>\n",
       "    <tr style=\"text-align: right;\">\n",
       "      <th></th>\n",
       "      <th>Unnamed: 0</th>\n",
       "      <th>user_name</th>\n",
       "      <th>raw_timestamp_part_1</th>\n",
       "      <th>raw_timestamp_part_2</th>\n",
       "      <th>cvtd_timestamp</th>\n",
       "      <th>new_window</th>\n",
       "      <th>num_window</th>\n",
       "      <th>roll_belt</th>\n",
       "      <th>pitch_belt</th>\n",
       "      <th>yaw_belt</th>\n",
       "      <th>...</th>\n",
       "      <th>gyros_forearm_x</th>\n",
       "      <th>gyros_forearm_y</th>\n",
       "      <th>gyros_forearm_z</th>\n",
       "      <th>accel_forearm_x</th>\n",
       "      <th>accel_forearm_y</th>\n",
       "      <th>accel_forearm_z</th>\n",
       "      <th>magnet_forearm_x</th>\n",
       "      <th>magnet_forearm_y</th>\n",
       "      <th>magnet_forearm_z</th>\n",
       "      <th>problem_id</th>\n",
       "    </tr>\n",
       "  </thead>\n",
       "  <tbody>\n",
       "    <tr>\n",
       "      <th>0</th>\n",
       "      <td>1</td>\n",
       "      <td>pedro</td>\n",
       "      <td>1323095002</td>\n",
       "      <td>868349</td>\n",
       "      <td>05/12/2011 14:23</td>\n",
       "      <td>no</td>\n",
       "      <td>74</td>\n",
       "      <td>123.00</td>\n",
       "      <td>27.00</td>\n",
       "      <td>-4.75</td>\n",
       "      <td>...</td>\n",
       "      <td>0.74</td>\n",
       "      <td>-3.34</td>\n",
       "      <td>-0.59</td>\n",
       "      <td>-110</td>\n",
       "      <td>267</td>\n",
       "      <td>-149</td>\n",
       "      <td>-714</td>\n",
       "      <td>419</td>\n",
       "      <td>617</td>\n",
       "      <td>1</td>\n",
       "    </tr>\n",
       "    <tr>\n",
       "      <th>1</th>\n",
       "      <td>2</td>\n",
       "      <td>jeremy</td>\n",
       "      <td>1322673067</td>\n",
       "      <td>778725</td>\n",
       "      <td>30/11/2011 17:11</td>\n",
       "      <td>no</td>\n",
       "      <td>431</td>\n",
       "      <td>1.02</td>\n",
       "      <td>4.87</td>\n",
       "      <td>-88.90</td>\n",
       "      <td>...</td>\n",
       "      <td>1.12</td>\n",
       "      <td>-2.78</td>\n",
       "      <td>-0.18</td>\n",
       "      <td>212</td>\n",
       "      <td>297</td>\n",
       "      <td>-118</td>\n",
       "      <td>-237</td>\n",
       "      <td>791</td>\n",
       "      <td>873</td>\n",
       "      <td>2</td>\n",
       "    </tr>\n",
       "    <tr>\n",
       "      <th>2</th>\n",
       "      <td>3</td>\n",
       "      <td>jeremy</td>\n",
       "      <td>1322673075</td>\n",
       "      <td>342967</td>\n",
       "      <td>30/11/2011 17:11</td>\n",
       "      <td>no</td>\n",
       "      <td>439</td>\n",
       "      <td>0.87</td>\n",
       "      <td>1.82</td>\n",
       "      <td>-88.50</td>\n",
       "      <td>...</td>\n",
       "      <td>0.18</td>\n",
       "      <td>-0.79</td>\n",
       "      <td>0.28</td>\n",
       "      <td>154</td>\n",
       "      <td>271</td>\n",
       "      <td>-129</td>\n",
       "      <td>-51</td>\n",
       "      <td>698</td>\n",
       "      <td>783</td>\n",
       "      <td>3</td>\n",
       "    </tr>\n",
       "    <tr>\n",
       "      <th>3</th>\n",
       "      <td>4</td>\n",
       "      <td>adelmo</td>\n",
       "      <td>1322832789</td>\n",
       "      <td>560311</td>\n",
       "      <td>02/12/2011 13:33</td>\n",
       "      <td>no</td>\n",
       "      <td>194</td>\n",
       "      <td>125.00</td>\n",
       "      <td>-41.60</td>\n",
       "      <td>162.00</td>\n",
       "      <td>...</td>\n",
       "      <td>1.38</td>\n",
       "      <td>0.69</td>\n",
       "      <td>1.80</td>\n",
       "      <td>-92</td>\n",
       "      <td>406</td>\n",
       "      <td>-39</td>\n",
       "      <td>-233</td>\n",
       "      <td>783</td>\n",
       "      <td>521</td>\n",
       "      <td>4</td>\n",
       "    </tr>\n",
       "    <tr>\n",
       "      <th>4</th>\n",
       "      <td>5</td>\n",
       "      <td>eurico</td>\n",
       "      <td>1322489635</td>\n",
       "      <td>814776</td>\n",
       "      <td>28/11/2011 14:13</td>\n",
       "      <td>no</td>\n",
       "      <td>235</td>\n",
       "      <td>1.35</td>\n",
       "      <td>3.33</td>\n",
       "      <td>-88.60</td>\n",
       "      <td>...</td>\n",
       "      <td>-0.75</td>\n",
       "      <td>3.10</td>\n",
       "      <td>0.80</td>\n",
       "      <td>131</td>\n",
       "      <td>-93</td>\n",
       "      <td>172</td>\n",
       "      <td>375</td>\n",
       "      <td>-787</td>\n",
       "      <td>91</td>\n",
       "      <td>5</td>\n",
       "    </tr>\n",
       "  </tbody>\n",
       "</table>\n",
       "<p>5 rows × 160 columns</p>\n",
       "</div>"
      ],
      "text/plain": [
       "   Unnamed: 0 user_name  raw_timestamp_part_1  raw_timestamp_part_2  \\\n",
       "0           1     pedro            1323095002                868349   \n",
       "1           2    jeremy            1322673067                778725   \n",
       "2           3    jeremy            1322673075                342967   \n",
       "3           4    adelmo            1322832789                560311   \n",
       "4           5    eurico            1322489635                814776   \n",
       "\n",
       "     cvtd_timestamp new_window  num_window  roll_belt  pitch_belt  yaw_belt  \\\n",
       "0  05/12/2011 14:23         no          74     123.00       27.00     -4.75   \n",
       "1  30/11/2011 17:11         no         431       1.02        4.87    -88.90   \n",
       "2  30/11/2011 17:11         no         439       0.87        1.82    -88.50   \n",
       "3  02/12/2011 13:33         no         194     125.00      -41.60    162.00   \n",
       "4  28/11/2011 14:13         no         235       1.35        3.33    -88.60   \n",
       "\n",
       "      ...      gyros_forearm_x  gyros_forearm_y  gyros_forearm_z  \\\n",
       "0     ...                 0.74            -3.34            -0.59   \n",
       "1     ...                 1.12            -2.78            -0.18   \n",
       "2     ...                 0.18            -0.79             0.28   \n",
       "3     ...                 1.38             0.69             1.80   \n",
       "4     ...                -0.75             3.10             0.80   \n",
       "\n",
       "   accel_forearm_x  accel_forearm_y  accel_forearm_z  magnet_forearm_x  \\\n",
       "0             -110              267             -149              -714   \n",
       "1              212              297             -118              -237   \n",
       "2              154              271             -129               -51   \n",
       "3              -92              406              -39              -233   \n",
       "4              131              -93              172               375   \n",
       "\n",
       "   magnet_forearm_y  magnet_forearm_z  problem_id  \n",
       "0               419               617           1  \n",
       "1               791               873           2  \n",
       "2               698               783           3  \n",
       "3               783               521           4  \n",
       "4              -787                91           5  \n",
       "\n",
       "[5 rows x 160 columns]"
      ]
     },
     "execution_count": 16,
     "metadata": {},
     "output_type": "execute_result"
    }
   ],
   "source": [
    "test = pd.read_csv(\"testing.csv\")\n",
    "test.head()"
   ]
  },
  {
   "cell_type": "code",
   "execution_count": 17,
   "metadata": {
    "collapsed": false
   },
   "outputs": [
    {
     "data": {
      "text/plain": [
       "(20, 52)"
      ]
     },
     "execution_count": 17,
     "metadata": {},
     "output_type": "execute_result"
    }
   ],
   "source": [
    "test_filtered = test[train_X_filtered.columns]  # Keep the same features for test set as the training set.\n",
    "test_filtered.shape"
   ]
  },
  {
   "cell_type": "code",
   "execution_count": 18,
   "metadata": {
    "collapsed": true
   },
   "outputs": [],
   "source": [
    "from sklearn.model_selection import train_test_split\n",
    "X_train, X_test, y_train, y_test = train_test_split(train_X_filtered, train_target, random_state=0)"
   ]
  },
  {
   "cell_type": "code",
   "execution_count": 19,
   "metadata": {
    "collapsed": false
   },
   "outputs": [
    {
     "data": {
      "text/plain": [
       "(14716, 52)"
      ]
     },
     "execution_count": 19,
     "metadata": {},
     "output_type": "execute_result"
    }
   ],
   "source": [
    "X_train.shape"
   ]
  },
  {
   "cell_type": "code",
   "execution_count": 20,
   "metadata": {
    "collapsed": false
   },
   "outputs": [
    {
     "data": {
      "text/plain": [
       "(4906, 52)"
      ]
     },
     "execution_count": 20,
     "metadata": {},
     "output_type": "execute_result"
    }
   ],
   "source": [
    "X_test.shape"
   ]
  },
  {
   "cell_type": "code",
   "execution_count": 21,
   "metadata": {
    "collapsed": true
   },
   "outputs": [],
   "source": [
    "from sklearn.preprocessing import MinMaxScaler\n",
    "scaler = MinMaxScaler()\n",
    "scaler.fit(X_train)    # It is important to normalize the features to avoid the dominated features due to big numbers.\n",
    "# transform train data\n",
    "X_train_scaled = scaler.transform(X_train)\n",
    "# transform test data\n",
    "X_test_scaled = scaler.transform(X_test)"
   ]
  },
  {
   "cell_type": "code",
   "execution_count": 22,
   "metadata": {
    "collapsed": false
   },
   "outputs": [
    {
     "data": {
      "text/plain": [
       "0.6296371789645332"
      ]
     },
     "execution_count": 22,
     "metadata": {},
     "output_type": "execute_result"
    }
   ],
   "source": [
    "from sklearn.svm import SVC       # Firstly, test SVC classifer.\n",
    "svm=SVC()\n",
    "svm.fit(X_train_scaled, y_train)\n",
    "svm.score(X_test_scaled, y_test)"
   ]
  },
  {
   "cell_type": "code",
   "execution_count": 23,
   "metadata": {
    "collapsed": false
   },
   "outputs": [
    {
     "data": {
      "text/plain": [
       "0.68935996738687322"
      ]
     },
     "execution_count": 23,
     "metadata": {},
     "output_type": "execute_result"
    }
   ],
   "source": [
    "from sklearn.linear_model import LogisticRegression  # Secondly, test LogisticRegression classifer.\n",
    "\n",
    "LogisticRegression().fit(X_train_scaled, y_train).score(X_test_scaled, y_test)"
   ]
  },
  {
   "cell_type": "code",
   "execution_count": 24,
   "metadata": {
    "collapsed": false
   },
   "outputs": [
    {
     "data": {
      "text/plain": [
       "0.68069150310001536"
      ]
     },
     "execution_count": 24,
     "metadata": {},
     "output_type": "execute_result"
    }
   ],
   "source": [
    "# Since LogisticRegression is better than SVC in this case, LogisticRegression is chosen for cross-validation.\n",
    "from sklearn.model_selection import cross_val_score \n",
    "from sklearn.model_selection import KFold\n",
    "logreg = LogisticRegression()\n",
    "#kfold = KFold(n_folds=5, shuffle=True, random_state=0) # more control over cross-validation, or directly \"cv=5\"\n",
    "scores = cross_val_score(logreg, X_train_scaled, y_train, cv=5) # scores will be 5-element array\n",
    "scores.mean()"
   ]
  },
  {
   "cell_type": "code",
   "execution_count": 56,
   "metadata": {
    "collapsed": false
   },
   "outputs": [
    {
     "data": {
      "text/plain": [
       "0.93334692213615977"
      ]
     },
     "execution_count": 56,
     "metadata": {},
     "output_type": "execute_result"
    }
   ],
   "source": [
    "# Then swith to test the RandomForestClassifier\n",
    "from sklearn.ensemble import RandomForestClassifier\n",
    "\n",
    "rf = RandomForestClassifier(n_estimators=200, max_depth=9)\n",
    "rf.fit(X_train_scaled, y_train)\n",
    "print(rf.score(X_train_scaled, y_train))\n",
    "print(rf.score(X_test_scaled, y_test))"
   ]
  },
  {
   "cell_type": "code",
   "execution_count": 58,
   "metadata": {
    "collapsed": false
   },
   "outputs": [
    {
     "data": {
      "text/plain": [
       "0.92804728903383615"
      ]
     },
     "execution_count": 58,
     "metadata": {},
     "output_type": "execute_result"
    }
   ],
   "source": [
    "# GridSearch for higher score to optimize the parameters in RandomForestClassifier\n",
    "\n",
    "rf1 = RandomForestClassifier(n_estimators=200, n_jobs=-1)\n",
    "parameters = {'max_features':['sqrt', 'log2'],'max_depth':[5, 7, 9]}\n",
    "grid = GridSearchCV(rf1, parameters, cv=5)\n",
    "grid.fit(X_train_scaled, y_train)\n",
    "grid.score(X_train_scaled, y_train)\n",
    "grid.score(X_test_scaled, y_test)"
   ]
  },
  {
   "cell_type": "code",
   "execution_count": 61,
   "metadata": {
    "collapsed": false
   },
   "outputs": [
    {
     "name": "stdout",
     "output_type": "stream",
     "text": [
      "{'max_depth': 9, 'max_features': 'log2'}\n",
      "0.924300081544\n"
     ]
    }
   ],
   "source": [
    "print(grid.best_params_)\n",
    "print(grid.best_score_)"
   ]
  },
  {
   "cell_type": "code",
   "execution_count": 64,
   "metadata": {
    "collapsed": false
   },
   "outputs": [
    {
     "name": "stderr",
     "output_type": "stream",
     "text": [
      "/Users/hengsong/anaconda/lib/python3.5/site-packages/sklearn/model_selection/_search.py:667: DeprecationWarning: The grid_scores_ attribute was deprecated in version 0.18 in favor of the more elaborate cv_results_ attribute. The grid_scores_ attribute will not be available from 0.20\n",
      "  DeprecationWarning)\n"
     ]
    },
    {
     "data": {
      "text/plain": [
       "<matplotlib.collections.PolyCollection at 0x114553668>"
      ]
     },
     "execution_count": 64,
     "metadata": {},
     "output_type": "execute_result"
    },
    {
     "data": {
      "image/png": "[encoded data removed]",
      "text/plain": [
       "<matplotlib.figure.Figure at 0x114c9e8d0>"
      ]
     },
     "metadata": {},
     "output_type": "display_data"
    }
   ],
   "source": [
    "import numpy as np\n",
    "rf_scores = [score.mean_validation_score for score in grid.grid_scores_]\n",
    "rf_scores = np.array(rf_scores).reshape(2, 3)\n",
    "# plot the mean cross-validation scores\n",
    "\n",
    "import matplotlib.pyplot as plt\n",
    "%matplotlib inline\n",
    "\n",
    "def heatmap(values, xlabel, ylabel, xticklabels, yticklabels, cmap=None,\n",
    "            vmin=None, vmax=None, ax=None, fmt=\"%0.2f\"):\n",
    "    if ax is None:\n",
    "        ax = plt.gca()\n",
    "    # plot the mean cross-validation scores\n",
    "    img = ax.pcolor(values, cmap=cmap, vmin=None, vmax=None)\n",
    "    img.update_scalarmappable()\n",
    "    ax.set_xlabel(xlabel)\n",
    "    ax.set_ylabel(ylabel)\n",
    "    ax.set_xticks(np.arange(len(xticklabels)) + .5)\n",
    "    ax.set_yticks(np.arange(len(yticklabels)) + .5)\n",
    "    ax.set_xticklabels(xticklabels)\n",
    "    ax.set_yticklabels(yticklabels)\n",
    "    ax.set_aspect(1)\n",
    "\n",
    "    for p, color, value in zip(img.get_paths(), img.get_facecolors(), img.get_array()):\n",
    "        x, y = p.vertices[:-2, :].mean(0)\n",
    "        if np.mean(color[:3]) > 0.5:\n",
    "            c = 'k'\n",
    "        else:\n",
    "            c = 'w'\n",
    "        ax.text(x, y, fmt % value, color=c, ha=\"center\", va=\"center\")\n",
    "    return img\n",
    "\n",
    "heatmap(rf_scores, xlabel='max_depth', ylabel='max_features', xticklabels=parameters['max_depth'],\n",
    "                      yticklabels=parameters['max_features'], cmap=\"viridis\")"
   ]
  },
  {
   "cell_type": "code",
   "execution_count": 65,
   "metadata": {
    "collapsed": false
   },
   "outputs": [
    {
     "data": {
      "text/plain": [
       "0.98695474928658788"
      ]
     },
     "execution_count": 65,
     "metadata": {},
     "output_type": "execute_result"
    }
   ],
   "source": [
    "# The above showed higher max_depth provided better scores and 'log2' shows better scores than 'sqrt'.\n",
    "#Test higher max_depth to further improve scores. \n",
    "# However, it is important to keep max_depth low to avoid overfitting. \n",
    "rf1 = RandomForestClassifier(n_estimators=200, n_jobs=-1)\n",
    "parameters_1 = {'max_features':['sqrt', 'log2'],'max_depth':[11, 13, 15]}   #New parameter set with higher 'max_depth'\n",
    "grid_1 = GridSearchCV(rf1, parameters_1, cv=5)\n",
    "grid_1.fit(X_train, y_train)\n",
    "grid_1.score(X_train, y_train)\n",
    "grid_1.score(X_test, y_test)"
   ]
  },
  {
   "cell_type": "code",
   "execution_count": 66,
   "metadata": {
    "collapsed": false
   },
   "outputs": [
    {
     "name": "stderr",
     "output_type": "stream",
     "text": [
      "/Users/hengsong/anaconda/lib/python3.5/site-packages/sklearn/model_selection/_search.py:667: DeprecationWarning: The grid_scores_ attribute was deprecated in version 0.18 in favor of the more elaborate cv_results_ attribute. The grid_scores_ attribute will not be available from 0.20\n",
      "  DeprecationWarning)\n"
     ]
    },
    {
     "data": {
      "text/plain": [
       "<matplotlib.collections.PolyCollection at 0x11c6866a0>"
      ]
     },
     "execution_count": 66,
     "metadata": {},
     "output_type": "execute_result"
    },
    {
     "data": {
      "image/png": "[encoded data removed]",
      "text/plain": [
       "<matplotlib.figure.Figure at 0x11ec1de80>"
      ]
     },
     "metadata": {},
     "output_type": "display_data"
    }
   ],
   "source": [
    "rf_scores_1 = [score.mean_validation_score for score in grid_1.grid_scores_]\n",
    "rf_scores_1 = np.array(rf_scores_1).reshape(2, 3)\n",
    "# plot the mean cross-validation scores\n",
    "\n",
    "import matplotlib.pyplot as plt\n",
    "%matplotlib inline\n",
    "\n",
    "def heatmap(values, xlabel, ylabel, xticklabels, yticklabels, cmap=None,\n",
    "            vmin=None, vmax=None, ax=None, fmt=\"%0.2f\"):\n",
    "    if ax is None:\n",
    "        ax = plt.gca()\n",
    "    # plot the mean cross-validation scores\n",
    "    img = ax.pcolor(values, cmap=cmap, vmin=None, vmax=None)\n",
    "    img.update_scalarmappable()\n",
    "    ax.set_xlabel(xlabel)\n",
    "    ax.set_ylabel(ylabel)\n",
    "    ax.set_xticks(np.arange(len(xticklabels)) + .5)\n",
    "    ax.set_yticks(np.arange(len(yticklabels)) + .5)\n",
    "    ax.set_xticklabels(xticklabels)\n",
    "    ax.set_yticklabels(yticklabels)\n",
    "    ax.set_aspect(1)\n",
    "\n",
    "    for p, color, value in zip(img.get_paths(), img.get_facecolors(), img.get_array()):\n",
    "        x, y = p.vertices[:-2, :].mean(0)\n",
    "        if np.mean(color[:3]) > 0.5:\n",
    "            c = 'k'\n",
    "        else:\n",
    "            c = 'w'\n",
    "        ax.text(x, y, fmt % value, color=c, ha=\"center\", va=\"center\")\n",
    "    return img\n",
    "\n",
    "heatmap(rf_scores_1, xlabel='max_depth', ylabel='max_features', xticklabels=parameters_1['max_depth'],\n",
    "                      yticklabels=parameters_1['max_features'], cmap=\"viridis\")"
   ]
  },
  {
   "cell_type": "code",
   "execution_count": 67,
   "metadata": {
    "collapsed": false
   },
   "outputs": [
    {
     "name": "stdout",
     "output_type": "stream",
     "text": [
      "0.996398477847\n",
      "0.986954749287\n"
     ]
    }
   ],
   "source": [
    "print(grid_1.score(X_train, y_train))\n",
    "print(grid_1.score(X_test, y_test))"
   ]
  },
  {
   "cell_type": "code",
   "execution_count": 68,
   "metadata": {
    "collapsed": false
   },
   "outputs": [
    {
     "name": "stdout",
     "output_type": "stream",
     "text": [
      "1.0\n",
      "0.995515695067\n"
     ]
    }
   ],
   "source": [
    "rf1 = RandomForestClassifier(n_estimators=200, n_jobs=-1)\n",
    "parameters_2 = {'max_features':['sqrt', 'log2'],'max_depth':[17, 19, 23]}\n",
    "grid_2 = GridSearchCV(rf1, parameters_2, cv=5)\n",
    "grid_2.fit(X_train, y_train)\n",
    "print(grid_2.score(X_train, y_train))\n",
    "print(grid_2.score(X_test, y_test))"
   ]
  },
  {
   "cell_type": "code",
   "execution_count": 70,
   "metadata": {
    "collapsed": false
   },
   "outputs": [
    {
     "name": "stderr",
     "output_type": "stream",
     "text": [
      "/Users/hengsong/anaconda/lib/python3.5/site-packages/sklearn/model_selection/_search.py:667: DeprecationWarning: The grid_scores_ attribute was deprecated in version 0.18 in favor of the more elaborate cv_results_ attribute. The grid_scores_ attribute will not be available from 0.20\n",
      "  DeprecationWarning)\n"
     ]
    },
    {
     "data": {
      "text/plain": [
       "<matplotlib.collections.PolyCollection at 0x11c49f828>"
      ]
     },
     "execution_count": 70,
     "metadata": {},
     "output_type": "execute_result"
    },
    {
     "data": {
      "image/png": "[encoded data removed]",
      "text/plain": [
       "<matplotlib.figure.Figure at 0x114563908>"
      ]
     },
     "metadata": {},
     "output_type": "display_data"
    }
   ],
   "source": [
    "rf_scores_2 = [score.mean_validation_score for score in grid_2.grid_scores_]\n",
    "rf_scores_2 = np.array(rf_scores_2).reshape(2, 3)\n",
    "# plot the mean cross-validation scores\n",
    "heatmap(rf_scores_2, xlabel='max_depth', ylabel='max_features', xticklabels=parameters_2['max_depth'],\n",
    "                      yticklabels=parameters_2['max_features'], cmap=\"viridis\")"
   ]
  },
  {
   "cell_type": "code",
   "execution_count": 71,
   "metadata": {
    "collapsed": false
   },
   "outputs": [
    {
     "data": {
      "text/plain": [
       "array([ 0.08109266,  0.04418235,  0.05682214,  0.01555776,  0.0064942 ,\n",
       "        0.00739312,  0.02054334,  0.00728921,  0.0087223 ,  0.02205928,\n",
       "        0.01602816,  0.02466171,  0.02439474,  0.02195217,  0.01135254,\n",
       "        0.01603851,  0.00684056,  0.0087066 ,  0.0093133 ,  0.0037792 ,\n",
       "        0.01462776,  0.00977713,  0.0094125 ,  0.01698737,  0.01466652,\n",
       "        0.01256927,  0.02820533,  0.01068673,  0.01590626,  0.01676212,\n",
       "        0.00825656,  0.015911  ,  0.0051856 ,  0.01615184,  0.02597809,\n",
       "        0.02209664,  0.03205847,  0.04365879,  0.05174666,  0.03766861,\n",
       "        0.05081842,  0.01146036,  0.00698124,  0.00490895,  0.00764653,\n",
       "        0.00522131,  0.01986254,  0.00912904,  0.01532291,  0.01413765,\n",
       "        0.0141432 ,  0.01883074])"
      ]
     },
     "execution_count": 71,
     "metadata": {},
     "output_type": "execute_result"
    }
   ],
   "source": [
    "grid_2.best_estimator_.feature_importances_\n"
   ]
  },
  {
   "cell_type": "code",
   "execution_count": 73,
   "metadata": {
    "collapsed": false
   },
   "outputs": [],
   "source": [
    "# as shown above, max_depth = 17 is the least number to provide the highest score. So choose 17 as max_depth and 'log2'\n",
    "# in the final classifer.\n",
    "rf_final = RandomForestClassifier(n_estimators=200, n_jobs=-1, max_features='log2', max_depth=17)"
   ]
  },
  {
   "cell_type": "code",
   "execution_count": 75,
   "metadata": {
    "collapsed": false
   },
   "outputs": [],
   "source": [
    "rf_final.fit(X_train, y_train)\n",
    "predictions = rf2.predict(X_test)"
   ]
  },
  {
   "cell_type": "code",
   "execution_count": 76,
   "metadata": {
    "collapsed": true
   },
   "outputs": [],
   "source": [
    "accuracy = len(predictions == y_test)/len(y_test)"
   ]
  },
  {
   "cell_type": "code",
   "execution_count": 83,
   "metadata": {
    "collapsed": false
   },
   "outputs": [
    {
     "name": "stdout",
     "output_type": "stream",
     "text": [
      "['C' 'C' 'B' 'C' 'C' 'B' 'E' 'E' 'A' 'A' 'B' 'B' 'E' 'A' 'B' 'B' 'E' 'E'\n",
      " 'A' 'D']\n"
     ]
    }
   ],
   "source": [
    "print(predictions[:20])\n"
   ]
  },
  {
   "cell_type": "code",
   "execution_count": 84,
   "metadata": {
    "collapsed": false
   },
   "outputs": [
    {
     "name": "stdout",
     "output_type": "stream",
     "text": [
      "11167    C\n",
      "10162    C\n",
      "7580     B\n",
      "10326    C\n",
      "12135    C\n",
      "6828     B\n",
      "16701    E\n",
      "16716    E\n",
      "2054     A\n",
      "5431     A\n",
      "7807     B\n",
      "8156     B\n",
      "17244    E\n",
      "1711     A\n",
      "8346     B\n",
      "6866     B\n",
      "16604    E\n",
      "16188    E\n",
      "4236     A\n",
      "14078    D\n",
      "Name: classe, dtype: object\n"
     ]
    }
   ],
   "source": [
    "print(y_test[:20])\n",
    "\n",
    "# Conclusion: the predictions are 100% matching the 'classe' of y_test!"
   ]
  },
  {
   "cell_type": "code",
   "execution_count": null,
   "metadata": {
    "collapsed": true
   },
   "outputs": [],
   "source": []
  }
 ],
 "metadata": {
  "anaconda-cloud": {},
  "kernelspec": {
   "display_name": "Python [default]",
   "language": "python",
   "name": "python3"
  },
  "language_info": {
   "codemirror_mode": {
    "name": "ipython",
    "version": 3
   },
   "file_extension": ".py",
   "mimetype": "text/x-python",
   "name": "python",
   "nbconvert_exporter": "python",
   "pygments_lexer": "ipython3",
   "version": "3.5.2"
  }
 },
 "nbformat": 4,
 "nbformat_minor": 1
}
